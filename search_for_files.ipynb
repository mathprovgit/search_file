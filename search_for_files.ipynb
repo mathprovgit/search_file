{
 "cells": [
  {
   "cell_type": "code",
   "execution_count": 7,
   "metadata": {
    "ExecuteTime": {
     "end_time": "2019-12-12T07:40:29.540548Z",
     "start_time": "2019-12-12T07:40:29.536558Z"
    }
   },
   "outputs": [],
   "source": [
    "import os, fnmatch"
   ]
  },
  {
   "cell_type": "code",
   "execution_count": 8,
   "metadata": {
    "ExecuteTime": {
     "end_time": "2019-12-12T07:40:29.705230Z",
     "start_time": "2019-12-12T07:40:29.702235Z"
    }
   },
   "outputs": [],
   "source": [
    "file_name_pattern = \"*search_me*\" #* stands here because some other character may stand before of after the pattern"
   ]
  },
  {
   "cell_type": "code",
   "execution_count": 9,
   "metadata": {
    "ExecuteTime": {
     "end_time": "2019-12-12T07:40:43.415854Z",
     "start_time": "2019-12-12T07:40:29.826390Z"
    }
   },
   "outputs": [
    {
     "name": "stdout",
     "output_type": "stream",
     "text": [
      "0 \t-\t c:\\Users\\mathieu_laptop\\Desktop\\0_TUberlin\\17_programming\\github_repos\\search_file\\search_me\n"
     ]
    }
   ],
   "source": [
    "#looks for a pattern in entire comuter and print the entire path as result\n",
    "my_file=[]\n",
    "for root, dirs, files in os.walk('c:/'):\n",
    "    for file in files:\n",
    "        if fnmatch.fnmatch(file,file_name_pattern):\n",
    "            my_file.append(os.path.abspath(os.path.join(root,file)))\n",
    "if len(my_file)>0:\n",
    "    for i in range(len(my_file)):\n",
    "        print(i,'\\t-\\t',my_file[i])\n",
    "else:\n",
    "    print('\\t No match')"
   ]
  },
  {
   "cell_type": "code",
   "execution_count": null,
   "metadata": {},
   "outputs": [],
   "source": []
  }
 ],
 "metadata": {
  "hide_input": false,
  "kernelspec": {
   "display_name": "Python 3",
   "language": "python",
   "name": "python3"
  },
  "language_info": {
   "codemirror_mode": {
    "name": "ipython",
    "version": 3
   },
   "file_extension": ".py",
   "mimetype": "text/x-python",
   "name": "python",
   "nbconvert_exporter": "python",
   "pygments_lexer": "ipython3",
   "version": "3.7.3"
  },
  "toc": {
   "base_numbering": 1,
   "nav_menu": {},
   "number_sections": true,
   "sideBar": true,
   "skip_h1_title": false,
   "title_cell": "Table of Contents",
   "title_sidebar": "Contents",
   "toc_cell": false,
   "toc_position": {},
   "toc_section_display": true,
   "toc_window_display": false
  }
 },
 "nbformat": 4,
 "nbformat_minor": 2
}
